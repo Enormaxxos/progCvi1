{
 "cells": [
  {
   "cell_type": "markdown",
   "metadata": {},
   "source": [
    "<b>Python-Matrix</b> (Petr Pelikán)\n",
    "==================================\n",
    "\n",
    "<b>Úvod</b> \n",
    "-----------\n",
    "Tento soubor slouží jako dokumentace třídy Matice (Python-Matrix), školního projektu na cvičení Programování 1 (NPRG030).\n",
    "Popisuje veškeré funkce, které třída umí, společně s jejich funkčností.\n",
    "\n",
    "<b>Konstruktory</b>\n",
    "-------------------\n",
    "- Funkce, které vytvoří instanci třídy Matice. Každá z nich vytvoří se stejnými daty datově identickou matici, liší se pouze ve způsobu zadání informací.\n",
    "\n",
    "- Každá z konstruktorů ohlásí chybu, pokud zjistí, že se ve všech řádcích neshoduje počet čísel.\n",
    "\n",
    "- Třída obsahuje <b>čtyři</b> konstruktory, z čehož <b>tři</b> slouží k implementování do projektu s maticemi, jmenovitě\n",
    "\n",
    "1. <b>Matrix.fromString( <i>inputString, rowSplitChar=\"@\", colSplitChar=\"&\" </i> )</b>\n",
    "    <p>Konstruktor má jediný povinný parametr, vstupní řetězec. Řádky se oddělují defaultně pomocí at (@) symbolu,\n",
    "    sloupce pomocí ampersand (&) symbolu, ovšem dají se nastavit v parametrech funkce.</p>\n",
    "\n",
    "    <p>Konstruktor ohlásí chybu, pokud matice nebude čtvercová či obdélníková (ve dvou řádcích bude různý počet čísel).</p>"
   ]
  },
  {
   "cell_type": "code",
   "execution_count": 3,
   "metadata": {},
   "outputs": [
    {
     "name": "stdout",
     "output_type": "stream",
     "text": [
      "\n",
      "-- Matrix --\n",
      "| 2 3 4 |\n",
      "| 3 4 5 |\n",
      "| 4 5 6 |\n"
     ]
    }
   ],
   "source": [
    "from MatrixClass import Matrix\n",
    "\n",
    "A = Matrix.fromString(\"2&3&4@3&4&5@4&5&6\")\n",
    "print(A)"
   ]
  },
  {
   "cell_type": "markdown",
   "metadata": {},
   "source": [
    "-  - <b>Matrix.from2DList( <i>2dList</i> )</b>"
   ]
  }
 ],
 "metadata": {
  "kernelspec": {
   "display_name": "Python 3.11.0 64-bit",
   "language": "python",
   "name": "python3"
  },
  "language_info": {
   "codemirror_mode": {
    "name": "ipython",
    "version": 3
   },
   "file_extension": ".py",
   "mimetype": "text/x-python",
   "name": "python",
   "nbconvert_exporter": "python",
   "pygments_lexer": "ipython3",
   "version": "3.11.0"
  },
  "orig_nbformat": 4,
  "vscode": {
   "interpreter": {
    "hash": "ead1b95f633dc9c51826328e1846203f51a198c6fb5f2884a80417ba131d4e82"
   }
  }
 },
 "nbformat": 4,
 "nbformat_minor": 2
}
